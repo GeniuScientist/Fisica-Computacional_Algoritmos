{
 "cells": [
  {
   "cell_type": "code",
   "execution_count": 1,
   "metadata": {},
   "outputs": [],
   "source": [
    "import numpy as np"
   ]
  },
  {
   "cell_type": "code",
   "execution_count": null,
   "metadata": {},
   "outputs": [],
   "source": [
    "def dft_geral(y):\n",
    "    N = len(y)\n",
    "    n = np.arange(N)\n",
    "    c = np.zeros(N,complex)\n",
    "    for k in range(N):\n",
    "        c[k] = np.sum(y*np.exp(-2j*np.pi*k*n/N))\n",
    "    return c\n",
    "    \n",
    "def dft_real(y):\n",
    "    N = len(y)\n",
    "    n = np.arange(N)\n",
    "    c = np.zeros(N//2+1,complex)\n",
    "    c_conj = np.zeros(N//2+N%2,complex)\n",
    "    for k in range(N//2+1):\n",
    "        c[k] = np.sum(y*np.exp(-2j*np.pi*k*n/N))\n",
    "        \n",
    "    c_conj = np.flip(np.conjugate(c[1:N//2+N%2]))\n",
    "        \n",
    "    return c,np.concatenate((c,c_conj))\n",
    "\n",
    "def reverse_dft(c):\n",
    "    N = len(c)\n",
    "    k = np.arange(N)\n",
    "    y = np.zeros(N,complex)\n",
    "    for n in range(N):\n",
    "        y[n] = np.sum(c*np.exp(2j*np.pi*k*n/N))/N\n",
    "    return y\n",
    "\n",
    "def dft_freq(x,Total=False):\n",
    "    if Total == True:\n",
    "        k = np.arange(len(x))\n",
    "        return k/(x[-1]-x[0])\n",
    "    else:\n",
    "        N = len(x)\n",
    "        k = np.arange(N)\n",
    "        f = k/(x[-1]-x[0])\n",
    "        return f[f<=N/(2*(x[-1]-x[0]))]\n",
    "\n",
    "def radix2_fft(x):\n",
    "    N = len(x)\n",
    "    if N <= 1:\n",
    "        return x\n",
    "    else:\n",
    "        even = radix2_fft(x[::2])\n",
    "        odd = radix2_fft(x[1::2])\n",
    "        factor = np.exp(-2j * np.pi * np.arange(N) / N)\n",
    "        return np.concatenate([even + factor[:N//2] * odd, even + factor[N//2:] * odd])"
   ]
  }
 ],
 "metadata": {
  "kernelspec": {
   "display_name": "Python 3",
   "language": "python",
   "name": "python3"
  },
  "language_info": {
   "codemirror_mode": {
    "name": "ipython",
    "version": 3
   },
   "file_extension": ".py",
   "mimetype": "text/x-python",
   "name": "python",
   "nbconvert_exporter": "python",
   "pygments_lexer": "ipython3",
   "version": "3.10.13"
  }
 },
 "nbformat": 4,
 "nbformat_minor": 2
}
